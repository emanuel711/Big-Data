{
  "nbformat": 4,
  "nbformat_minor": 0,
  "metadata": {
    "colab": {
      "provenance": [],
      "include_colab_link": true
    },
    "kernelspec": {
      "name": "python3",
      "display_name": "Python 3"
    },
    "language_info": {
      "name": "python"
    }
  },
  "cells": [
    {
      "cell_type": "markdown",
      "metadata": {
        "id": "view-in-github",
        "colab_type": "text"
      },
      "source": [
        "<a href=\"https://colab.research.google.com/github/emanuel711/Big-Data/blob/main/bigdata_books_rating.ipynb\" target=\"_parent\"><img src=\"https://colab.research.google.com/assets/colab-badge.svg\" alt=\"Open In Colab\"/></a>"
      ]
    },
    {
      "cell_type": "markdown",
      "source": [
        "**Big data Books Rating**"
      ],
      "metadata": {
        "id": "HS00VDf65WsY"
      }
    },
    {
      "cell_type": "code",
      "execution_count": null,
      "metadata": {
        "colab": {
          "base_uri": "https://localhost:8080/"
        },
        "id": "JjGWrs1RKzUP",
        "outputId": "bd995a14-fc49-47fe-9c9b-e4bdffc1b16c"
      },
      "outputs": [
        {
          "output_type": "stream",
          "name": "stdout",
          "text": [
            "\u001b[33m\r0% [Working]\u001b[0m\r            \rHit:1 https://cloud.r-project.org/bin/linux/ubuntu bionic-cran40/ InRelease\n",
            "\u001b[33m\r0% [Connecting to archive.ubuntu.com (185.125.190.39)] [Connecting to security.\u001b[0m\u001b[33m\r0% [1 InRelease gpgv 3,626 B] [Connecting to archive.ubuntu.com (185.125.190.39\u001b[0m\r                                                                               \rIgn:2 https://developer.download.nvidia.com/compute/machine-learning/repos/ubuntu1804/x86_64  InRelease\n",
            "Hit:3 https://developer.download.nvidia.com/compute/cuda/repos/ubuntu1804/x86_64  InRelease\n",
            "Hit:4 https://developer.download.nvidia.com/compute/machine-learning/repos/ubuntu1804/x86_64  Release\n",
            "Get:5 http://security.ubuntu.com/ubuntu bionic-security InRelease [88.7 kB]\n",
            "Hit:6 http://archive.ubuntu.com/ubuntu bionic InRelease\n",
            "Hit:7 http://ppa.launchpad.net/c2d4u.team/c2d4u4.0+/ubuntu bionic InRelease\n",
            "Get:8 http://archive.ubuntu.com/ubuntu bionic-updates InRelease [88.7 kB]\n",
            "Hit:9 http://ppa.launchpad.net/cran/libgit2/ubuntu bionic InRelease\n",
            "Hit:11 http://ppa.launchpad.net/deadsnakes/ppa/ubuntu bionic InRelease\n",
            "Get:12 http://archive.ubuntu.com/ubuntu bionic-backports InRelease [83.3 kB]\n",
            "Hit:13 http://ppa.launchpad.net/graphics-drivers/ppa/ubuntu bionic InRelease\n",
            "Fetched 261 kB in 3s (103 kB/s)\n",
            "Reading package lists... Done\n",
            "Building dependency tree       \n",
            "Reading state information... Done\n",
            "11 packages can be upgraded. Run 'apt list --upgradable' to see them.\n"
          ]
        }
      ],
      "source": [
        "!apt update\n",
        "!apt-get install openjdk-8-jdk-headless -qq > /dev/null  \n",
        "!wget -q https://archive.apache.org/dist/spark/spark-3.3.1/spark-3.3.1-bin-hadoop3.tgz  \n",
        "!tar xf spark-3.3.1-bin-hadoop3.tgz  \n",
        "!pip install -q findspark "
      ]
    },
    {
      "cell_type": "code",
      "source": [
        "import os\n",
        "os.environ[\"JAVA_HOME\"] = \"/usr/lib/jvm/java-8-openjdk-amd64\"\n",
        "os.environ[\"SPARK_HOME\"] = \"/content/spark-3.3.1-bin-hadoop3\""
      ],
      "metadata": {
        "id": "HxME9BauLIr6"
      },
      "execution_count": null,
      "outputs": []
    },
    {
      "cell_type": "code",
      "source": [
        "import findspark\n",
        "findspark.init(\"spark-3.3.1-bin-hadoop3\") \n",
        "from pyspark.sql import SparkSession\n",
        "spark = SparkSession.builder.master(\"local[*]\").getOrCreate()\n",
        "from pyspark.sql import Row\n",
        "from pyspark.sql import functions"
      ],
      "metadata": {
        "id": "kvH5Sf90Lqz6"
      },
      "execution_count": null,
      "outputs": []
    },
    {
      "cell_type": "code",
      "source": [
        "from google.colab import drive\n",
        "drive.mount('/content/drive')"
      ],
      "metadata": {
        "id": "uDmWkAqGLPIf",
        "colab": {
          "base_uri": "https://localhost:8080/"
        },
        "outputId": "99dc41dd-99d1-4c5d-dda0-fa0a477fb636"
      },
      "execution_count": null,
      "outputs": [
        {
          "output_type": "stream",
          "name": "stdout",
          "text": [
            "Mounted at /content/drive\n"
          ]
        }
      ]
    },
    {
      "cell_type": "code",
      "source": [
        "!ls \"/content/drive/MyDrive/Big Data Project/ProjectBigDataBooksRating\"  "
      ],
      "metadata": {
        "colab": {
          "base_uri": "https://localhost:8080/"
        },
        "id": "mazG5dAqLdCn",
        "outputId": "ce2d59fb-67e7-4b4f-b3b0-238b796bab61"
      },
      "execution_count": null,
      "outputs": [
        {
          "output_type": "stream",
          "name": "stdout",
          "text": [
            "'bigdata books rating.ipynb'\t       BX-Books.csv\n",
            "'Big Data Project-Books Rating.pptx'   BX-Users.csv\n",
            "'Book1 (1).twb'\t\t\t       lightbulb_insight.png\n",
            "'Book Rating.twb'\t\t       rating.csv\n",
            " books.csv\t\t\t       users.csv\n",
            " BX-Book-Ratings.csv\n"
          ]
        }
      ]
    },
    {
      "cell_type": "markdown",
      "source": [
        "**Importing files**"
      ],
      "metadata": {
        "id": "9b-q5TOEDdDE"
      }
    },
    {
      "cell_type": "code",
      "source": [
        "dfb = spark.read.option(\"delimiter\", \";\").option(\"header\", True).option(\"mode\",\"DROPMALFORMED\").csv(\"/content/drive/MyDrive/Big Data Project/ProjectBigDataBooksRating/BX-Books.csv\")\n",
        "dfu = spark.read.option(\"delimiter\", \";\").option(\"header\", True).option(\"mode\",\"DROPMALFORMED\").csv(\"/content/drive/MyDrive/Big Data Project/ProjectBigDataBooksRating/BX-Users.csv\")\n",
        "dfr = spark.read.option(\"delimiter\", \";\").option(\"header\", True).option(\"mode\",\"DROPMALFORMED\").csv(\"/content/drive/MyDrive/Big Data Project/ProjectBigDataBooksRating/BX-Book-Ratings.csv\")\n"
      ],
      "metadata": {
        "id": "qIK5N__hLd3K"
      },
      "execution_count": null,
      "outputs": []
    },
    {
      "cell_type": "markdown",
      "source": [
        "**dfr file ETA fact table**"
      ],
      "metadata": {
        "id": "j2Fu1TNGp-KM"
      }
    },
    {
      "cell_type": "code",
      "source": [
        "dfr.show()"
      ],
      "metadata": {
        "colab": {
          "base_uri": "https://localhost:8080/"
        },
        "id": "_A4QSLKTr3ra",
        "outputId": "d55d012c-25ed-40ba-ed2e-c98f46902398"
      },
      "execution_count": null,
      "outputs": [
        {
          "output_type": "stream",
          "name": "stdout",
          "text": [
            "+--------------------+------------------+\n",
            "|   \"User-ID;\"\"ISBN\"\"|\"\"Book-Rating\"\"\",,|\n",
            "+--------------------+------------------+\n",
            "|\"276725;\"\"0345451...|          \"\"0\"\"\",,|\n",
            "|\"276726;\"\"0155061...|          \"\"5\"\"\",,|\n",
            "|\"276727;\"\"0446520...|          \"\"0\"\"\",,|\n",
            "|\"276729;\"\"0521656...|          \"\"3\"\"\",,|\n",
            "|\"276729;\"\"0521795...|          \"\"6\"\"\",,|\n",
            "|\"276733;\"\"2080674...|          \"\"0\"\"\",,|\n",
            "|\"276736;\"\"3257224...|          \"\"8\"\"\",,|\n",
            "|\"276737;\"\"0600570...|          \"\"6\"\"\",,|\n",
            "|\"276744;\"\"0385501...|          \"\"7\"\"\",,|\n",
            "|\"276745;\"\"3423105...|         \"\"10\"\"\",,|\n",
            "|\"276746;\"\"0425115...|          \"\"0\"\"\",,|\n",
            "|\"276746;\"\"0449006...|          \"\"0\"\"\",,|\n",
            "|\"276746;\"\"0553561...|          \"\"0\"\"\",,|\n",
            "|\"276746;\"\"0553564...|          \"\"0\"\"\",,|\n",
            "|\"276746;\"\"0786013...|          \"\"0\"\"\",,|\n",
            "|\"276746;\"\"0786014...|          \"\"0\"\"\",,|\n",
            "|\"276747;\"\"0060517...|          \"\"9\"\"\",,|\n",
            "|\"276747;\"\"0451192...|          \"\"0\"\"\",,|\n",
            "|\"276747;\"\"0609801...|          \"\"0\"\"\",,|\n",
            "|\"276747;\"\"0671537...|          \"\"9\"\"\",,|\n",
            "+--------------------+------------------+\n",
            "only showing top 20 rows\n",
            "\n"
          ]
        }
      ]
    },
    {
      "cell_type": "code",
      "source": [
        "print((dfr.count(), len(dfr.columns)))"
      ],
      "metadata": {
        "colab": {
          "base_uri": "https://localhost:8080/"
        },
        "id": "jy6jQXBBMBvT",
        "outputId": "e3160ba9-2a70-45d8-e043-8cfaff355e82"
      },
      "execution_count": null,
      "outputs": [
        {
          "output_type": "stream",
          "name": "stdout",
          "text": [
            "(1048575, 2)\n"
          ]
        }
      ]
    },
    {
      "cell_type": "code",
      "source": [
        "dfr=dfr.withColumnRenamed('\"User-ID;\"\"ISBN\"\"', 'UserID-ISBN')\n",
        "dfr=dfr.withColumnRenamed('\"\"Book-Rating\"\"\",,','bookRating')"
      ],
      "metadata": {
        "id": "DQmxoxafiV2j"
      },
      "execution_count": null,
      "outputs": []
    },
    {
      "cell_type": "code",
      "source": [
        "from pyspark.sql.functions import *\n",
        "from pyspark.sql.types import IntegerType\n",
        "dfr=dfr.withColumn('bookRating',regexp_replace('bookRating',',',''))\n",
        "dfr=dfr.withColumn('bookRating',regexp_replace('bookRating','\"',''))\n",
        "dfr=dfr.withColumn('UserID-ISBN',regexp_replace('UserID-ISBN','\"',''))\n",
        "dfr = dfr.withColumn('UserID', split(dfr['UserID-ISBN'], ';').getItem(0)) \\\n",
        "       .withColumn('ISBN', split(dfr['UserID-ISBN'], ';').getItem(1))\n",
        "dfr=dfr.drop(\"UserID-ISBN\") \n",
        "dfr = dfr.withColumn(\"userID\", dfr[\"userID\"].cast(IntegerType()))\n",
        "dfr=dfr.sort(\"userID\")      \n",
        "dfr = dfr.select('UserID',\"ISBN\",\"bookrating\")\n"
      ],
      "metadata": {
        "id": "MakrI1RNMNb4"
      },
      "execution_count": null,
      "outputs": []
    },
    {
      "cell_type": "code",
      "source": [
        "dfr=dfr.sort(\"userID\")\n",
        "x = dfr.withColumn(\"UserID\",dfr.UserID.cast('int'))\n",
        "dfr=x\n",
        "dfr=dfr.withColumn(\"bookrating\",dfr.bookrating.cast('int'))\n",
        "dfr.show()"
      ],
      "metadata": {
        "colab": {
          "base_uri": "https://localhost:8080/"
        },
        "id": "bWGyrpWl6_cZ",
        "outputId": "1164026f-4507-4b31-cc5f-6a394a9b8ee5"
      },
      "execution_count": null,
      "outputs": [
        {
          "output_type": "stream",
          "name": "stdout",
          "text": [
            "+------+----------+----------+\n",
            "|UserID|      ISBN|bookrating|\n",
            "+------+----------+----------+\n",
            "|     2|0195153448|         0|\n",
            "|     7| 034542252|         0|\n",
            "|     8|1881320189|         7|\n",
            "|     8|1575663937|         6|\n",
            "|     8|0399135782|         0|\n",
            "|     8|074322678X|         5|\n",
            "|     8|0887841740|         5|\n",
            "|     8|1567407781|         6|\n",
            "|     8|0393045218|         0|\n",
            "|     8|0771025661|         0|\n",
            "|     8|0671870432|         0|\n",
            "|     8|0374157065|         0|\n",
            "|     8|0771074670|         0|\n",
            "|     8|080652121X|         0|\n",
            "|     8|1558746218|         0|\n",
            "|     8|0002005018|         5|\n",
            "|     8|0425176428|         0|\n",
            "|     8|0060973129|         0|\n",
            "|     8|1552041778|         5|\n",
            "|     8|0679425608|         0|\n",
            "+------+----------+----------+\n",
            "only showing top 20 rows\n",
            "\n"
          ]
        }
      ]
    },
    {
      "cell_type": "code",
      "source": [
        "dfr.printSchema()"
      ],
      "metadata": {
        "colab": {
          "base_uri": "https://localhost:8080/"
        },
        "id": "ufFAyLPuCjeY",
        "outputId": "b7fd89a5-4c34-4133-add3-9ff71629f5b1"
      },
      "execution_count": null,
      "outputs": [
        {
          "output_type": "stream",
          "name": "stdout",
          "text": [
            "root\n",
            " |-- UserID: integer (nullable = true)\n",
            " |-- ISBN: string (nullable = true)\n",
            " |-- bookrating: integer (nullable = true)\n",
            "\n"
          ]
        }
      ]
    },
    {
      "cell_type": "code",
      "source": [
        "print((dfr.count(), len(dfr.columns)))"
      ],
      "metadata": {
        "colab": {
          "base_uri": "https://localhost:8080/"
        },
        "id": "p-pc7JbHlWSf",
        "outputId": "cda26118-7df7-45a4-c8d1-393da505c3d6"
      },
      "execution_count": null,
      "outputs": [
        {
          "output_type": "stream",
          "name": "stdout",
          "text": [
            "(1048575, 3)\n"
          ]
        }
      ]
    },
    {
      "cell_type": "markdown",
      "source": [
        "**dfu file ETA dim table**"
      ],
      "metadata": {
        "id": "E_cvt1cDF2iw"
      }
    },
    {
      "cell_type": "code",
      "source": [
        "dfu.show()"
      ],
      "metadata": {
        "id": "Qk3ZQymgtyc0",
        "colab": {
          "base_uri": "https://localhost:8080/"
        },
        "outputId": "de44e4a8-70c7-46f3-8799-5d1454c49dab"
      },
      "execution_count": null,
      "outputs": [
        {
          "output_type": "stream",
          "name": "stdout",
          "text": [
            "+-------+--------------------+----+\n",
            "|User-ID|            Location| Age|\n",
            "+-------+--------------------+----+\n",
            "|      1|  nyc, new york, usa|NULL|\n",
            "|      2|stockton, califor...|  18|\n",
            "|      3|moscow, yukon ter...|NULL|\n",
            "|      4|porto, v.n.gaia, ...|  17|\n",
            "|      5|farnborough, hant...|NULL|\n",
            "|      6|santa monica, cal...|  61|\n",
            "|      7| washington, dc, usa|NULL|\n",
            "|      8|timmins, ontario,...|NULL|\n",
            "|      9|germantown, tenne...|NULL|\n",
            "|     10|albacete, wiscons...|  26|\n",
            "|     11|melbourne, victor...|  14|\n",
            "|     12|fort bragg, calif...|NULL|\n",
            "|     13|barcelona, barcel...|  26|\n",
            "|     14|mediapolis, iowa,...|NULL|\n",
            "|     15|calgary, alberta,...|NULL|\n",
            "|     16|albuquerque, new ...|NULL|\n",
            "|     17|chesapeake, virgi...|NULL|\n",
            "|     18|rio de janeiro, r...|  25|\n",
            "|     19|           weston, ,|  14|\n",
            "|     20|langhorne, pennsy...|  19|\n",
            "+-------+--------------------+----+\n",
            "only showing top 20 rows\n",
            "\n"
          ]
        }
      ]
    },
    {
      "cell_type": "code",
      "source": [
        "print((dfu.count(), len(dfu.columns)))"
      ],
      "metadata": {
        "colab": {
          "base_uri": "https://localhost:8080/"
        },
        "id": "F6vgrZc3MIJo",
        "outputId": "7c4cfe16-5135-428e-a104-1689ef859e0c"
      },
      "execution_count": null,
      "outputs": [
        {
          "output_type": "stream",
          "name": "stdout",
          "text": [
            "(278859, 3)\n"
          ]
        }
      ]
    },
    {
      "cell_type": "code",
      "source": [
        "x = dfu.withColumn(\"Age\",dfu.Age.cast('int'))\n",
        "dfu = x.fillna(-1)\n",
        "dfu = dfu.withColumn('city', split(dfu['Location'], ',').getItem(0)) \\\n",
        "       .withColumn('state', split(dfu['Location'], ',').getItem(1)).withColumn('country', split(dfu['Location'], ',').getItem(2))\n",
        "dfu=dfu.drop('Location')\n",
        "dfu=dfu.withColumnRenamed(\"User-ID\", \"UserID\")\n",
        "dfu = dfu.withColumn('city', when(dfu.city.contains('�'),'unknown') \\\n",
        "      .otherwise(dfu.city))\n",
        "dfu = dfu.withColumn('state', when(dfu.state.contains('�'),'unknown') \\\n",
        "      .otherwise(dfu.state))\n",
        "dfu = dfu.withColumn('country', when(dfu.country.contains('�'),'unknown') \\\n",
        "      .otherwise(dfu.country))\n",
        "\n",
        "dfu.show()"
      ],
      "metadata": {
        "id": "I-yi8qzlrfe1",
        "colab": {
          "base_uri": "https://localhost:8080/"
        },
        "outputId": "caa6c77c-b07f-49a0-9535-422c4aa6df52"
      },
      "execution_count": null,
      "outputs": [
        {
          "output_type": "stream",
          "name": "stdout",
          "text": [
            "+------+---+--------------+----------------+---------------+\n",
            "|UserID|Age|          city|           state|        country|\n",
            "+------+---+--------------+----------------+---------------+\n",
            "|     1| -1|           nyc|        new york|            usa|\n",
            "|     2| 18|      stockton|      california|            usa|\n",
            "|     3| -1|        moscow| yukon territory|         russia|\n",
            "|     4| 17|         porto|        v.n.gaia|       portugal|\n",
            "|     5| -1|   farnborough|           hants| united kingdom|\n",
            "|     6| 61|  santa monica|      california|            usa|\n",
            "|     7| -1|    washington|              dc|            usa|\n",
            "|     8| -1|       timmins|         ontario|         canada|\n",
            "|     9| -1|    germantown|       tennessee|            usa|\n",
            "|    10| 26|      albacete|       wisconsin|          spain|\n",
            "|    11| 14|     melbourne|        victoria|      australia|\n",
            "|    12| -1|    fort bragg|      california|            usa|\n",
            "|    13| 26|     barcelona|       barcelona|          spain|\n",
            "|    14| -1|    mediapolis|            iowa|            usa|\n",
            "|    15| -1|       calgary|         alberta|         canada|\n",
            "|    16| -1|   albuquerque|      new mexico|            usa|\n",
            "|    17| -1|    chesapeake|        virginia|            usa|\n",
            "|    18| 25|rio de janeiro|  rio de janeiro|         brazil|\n",
            "|    19| 14|        weston|                |               |\n",
            "|    20| 19|     langhorne|    pennsylvania|            usa|\n",
            "+------+---+--------------+----------------+---------------+\n",
            "only showing top 20 rows\n",
            "\n"
          ]
        }
      ]
    },
    {
      "cell_type": "code",
      "source": [
        "for i in dfu.columns:\n",
        "  dfu=dfu.withColumn(i,regexp_replace(i,'n/a','unknown'))\n",
        "  dfu=dfu.withColumn(i,regexp_replace(i,'\"\\\"',''))\n",
        "  dfu=dfu.withColumn(i,regexp_replace(i,'\"?\"',''))\n",
        "  dfu=dfu.withColumn(i,regexp_replace(i,'\"',''))\n",
        "  dfu=dfu.withColumn(i,regexp_replace(i,'_',''))\n",
        "  dfu=dfu.withColumn(i,regexp_replace(i,'\"*\"','unknown'))\n",
        "  dfu=dfu.withColumn(i,regexp_replace(i,'#','unknown'))"
      ],
      "metadata": {
        "id": "yKSxMwx0tmhg"
      },
      "execution_count": null,
      "outputs": []
    },
    {
      "cell_type": "code",
      "source": [
        "from pyspark.sql.functions import col,when\n",
        "dfu1=dfu.select([when(col(c)==\"\",'unknown').otherwise(col(c)).alias(c) for c in dfu.columns])\n",
        "dfu=dfu1\n",
        "dfu1=dfu.select([when(col(c)==\" \",'unknown').otherwise(col(c)).alias(c) for c in dfu.columns])\n",
        "dfu=dfu1\n",
        "dfu.show()"
      ],
      "metadata": {
        "id": "Q30S5dM3t8jY",
        "colab": {
          "base_uri": "https://localhost:8080/"
        },
        "outputId": "f3a440e1-ff9d-4d44-b3fa-72681375c833"
      },
      "execution_count": null,
      "outputs": [
        {
          "output_type": "stream",
          "name": "stdout",
          "text": [
            "+------+---+--------------+----------------+---------------+\n",
            "|UserID|Age|          city|           state|        country|\n",
            "+------+---+--------------+----------------+---------------+\n",
            "|     1| -1|           nyc|        new york|            usa|\n",
            "|     2| 18|      stockton|      california|            usa|\n",
            "|     3| -1|        moscow| yukon territory|         russia|\n",
            "|     4| 17|         porto|        v.n.gaia|       portugal|\n",
            "|     5| -1|   farnborough|           hants| united kingdom|\n",
            "|     6| 61|  santa monica|      california|            usa|\n",
            "|     7| -1|    washington|              dc|            usa|\n",
            "|     8| -1|       timmins|         ontario|         canada|\n",
            "|     9| -1|    germantown|       tennessee|            usa|\n",
            "|    10| 26|      albacete|       wisconsin|          spain|\n",
            "|    11| 14|     melbourne|        victoria|      australia|\n",
            "|    12| -1|    fort bragg|      california|            usa|\n",
            "|    13| 26|     barcelona|       barcelona|          spain|\n",
            "|    14| -1|    mediapolis|            iowa|            usa|\n",
            "|    15| -1|       calgary|         alberta|         canada|\n",
            "|    16| -1|   albuquerque|      new mexico|            usa|\n",
            "|    17| -1|    chesapeake|        virginia|            usa|\n",
            "|    18| 25|rio de janeiro|  rio de janeiro|         brazil|\n",
            "|    19| 14|        weston|         unknown|        unknown|\n",
            "|    20| 19|     langhorne|    pennsylvania|            usa|\n",
            "+------+---+--------------+----------------+---------------+\n",
            "only showing top 20 rows\n",
            "\n"
          ]
        }
      ]
    },
    {
      "cell_type": "code",
      "source": [
        "from pyspark.sql.functions import when\n",
        "dfu = dfu.withColumn(\"Age\", when(dfu.Age > 100,-1) \\\n",
        "      .when(dfu.Age <10,-1) \\\n",
        "      .otherwise(dfu.Age))"
      ],
      "metadata": {
        "id": "oHR4M332uD5D"
      },
      "execution_count": null,
      "outputs": []
    },
    {
      "cell_type": "code",
      "source": [
        "dfu.show()"
      ],
      "metadata": {
        "id": "wXxM2hoJqW2i",
        "colab": {
          "base_uri": "https://localhost:8080/"
        },
        "outputId": "6d9bf215-e5b9-4933-e338-9526ffd9b38e"
      },
      "execution_count": null,
      "outputs": [
        {
          "output_type": "stream",
          "name": "stdout",
          "text": [
            "+------+---+--------------+----------------+---------------+\n",
            "|UserID|Age|          city|           state|        country|\n",
            "+------+---+--------------+----------------+---------------+\n",
            "|     1| -1|           nyc|        new york|            usa|\n",
            "|     2| 18|      stockton|      california|            usa|\n",
            "|     3| -1|        moscow| yukon territory|         russia|\n",
            "|     4| 17|         porto|        v.n.gaia|       portugal|\n",
            "|     5| -1|   farnborough|           hants| united kingdom|\n",
            "|     6| 61|  santa monica|      california|            usa|\n",
            "|     7| -1|    washington|              dc|            usa|\n",
            "|     8| -1|       timmins|         ontario|         canada|\n",
            "|     9| -1|    germantown|       tennessee|            usa|\n",
            "|    10| 26|      albacete|       wisconsin|          spain|\n",
            "|    11| 14|     melbourne|        victoria|      australia|\n",
            "|    12| -1|    fort bragg|      california|            usa|\n",
            "|    13| 26|     barcelona|       barcelona|          spain|\n",
            "|    14| -1|    mediapolis|            iowa|            usa|\n",
            "|    15| -1|       calgary|         alberta|         canada|\n",
            "|    16| -1|   albuquerque|      new mexico|            usa|\n",
            "|    17| -1|    chesapeake|        virginia|            usa|\n",
            "|    18| 25|rio de janeiro|  rio de janeiro|         brazil|\n",
            "|    19| 14|        weston|         unknown|        unknown|\n",
            "|    20| 19|     langhorne|    pennsylvania|            usa|\n",
            "+------+---+--------------+----------------+---------------+\n",
            "only showing top 20 rows\n",
            "\n"
          ]
        }
      ]
    },
    {
      "cell_type": "code",
      "source": [
        "dfu.dtypes"
      ],
      "metadata": {
        "colab": {
          "base_uri": "https://localhost:8080/"
        },
        "id": "VdfC0oBgUXOu",
        "outputId": "69af1183-19d7-42e2-aae0-096fdc46e0c9"
      },
      "execution_count": null,
      "outputs": [
        {
          "output_type": "execute_result",
          "data": {
            "text/plain": [
              "[('UserID', 'string'),\n",
              " ('Age', 'string'),\n",
              " ('city', 'string'),\n",
              " ('state', 'string'),\n",
              " ('country', 'string')]"
            ]
          },
          "metadata": {},
          "execution_count": 36
        }
      ]
    },
    {
      "cell_type": "code",
      "source": [
        "dfu=dfu.withColumn(\"UserID\",dfu.UserID.cast('int'))\n",
        "dfu=dfu.withColumn(\"Age\",dfu.Age.cast('int'))\n",
        "dfu.dtypes"
      ],
      "metadata": {
        "id": "LwBS8DnNDE3J",
        "colab": {
          "base_uri": "https://localhost:8080/"
        },
        "outputId": "d4efe17f-ad84-4da1-9127-ced18f2e9ba3"
      },
      "execution_count": null,
      "outputs": [
        {
          "output_type": "execute_result",
          "data": {
            "text/plain": [
              "[('UserID', 'int'),\n",
              " ('Age', 'int'),\n",
              " ('city', 'string'),\n",
              " ('state', 'string'),\n",
              " ('country', 'string')]"
            ]
          },
          "metadata": {},
          "execution_count": 37
        }
      ]
    },
    {
      "cell_type": "code",
      "source": [
        "print((dfu.count(), len(dfu.columns)))"
      ],
      "metadata": {
        "id": "SOpajWFF1yFd",
        "colab": {
          "base_uri": "https://localhost:8080/"
        },
        "outputId": "a8852f69-d814-4ce7-a25d-3af74d913bea"
      },
      "execution_count": null,
      "outputs": [
        {
          "output_type": "stream",
          "name": "stdout",
          "text": [
            "(278859, 5)\n"
          ]
        }
      ]
    },
    {
      "cell_type": "code",
      "source": [
        "dfb.show()"
      ],
      "metadata": {
        "colab": {
          "base_uri": "https://localhost:8080/"
        },
        "id": "lLdlfIZ26tUr",
        "outputId": "44455894-b443-4b76-b992-81019d42037d"
      },
      "execution_count": null,
      "outputs": [
        {
          "output_type": "stream",
          "name": "stdout",
          "text": [
            "+----------+--------------------+--------------------+-------------------+--------------------+--------------------+--------------------+--------------------+\n",
            "|      ISBN|          Book-Title|         Book-Author|Year-Of-Publication|           Publisher|         Image-URL-S|         Image-URL-M|         Image-URL-L|\n",
            "+----------+--------------------+--------------------+-------------------+--------------------+--------------------+--------------------+--------------------+\n",
            "|0195153448| Classical Mythology|  Mark P. O. Morford|               2002|Oxford University...|http://images.ama...|http://images.ama...|http://images.ama...|\n",
            "|0002005018|        Clara Callan|Richard Bruce Wright|               2001|HarperFlamingo Ca...|http://images.ama...|http://images.ama...|http://images.ama...|\n",
            "|0060973129|Decision in Normandy|        Carlo D'Este|               1991|     HarperPerennial|http://images.ama...|http://images.ama...|http://images.ama...|\n",
            "|0374157065|Flu: The Story of...|    Gina Bari Kolata|               1999|Farrar Straus Giroux|http://images.ama...|http://images.ama...|http://images.ama...|\n",
            "|0393045218|The Mummies of Ur...|     E. J. W. Barber|               1999|W. W. Norton &amp...|http://images.ama...|http://images.ama...|http://images.ama...|\n",
            "|0399135782|The Kitchen God's...|             Amy Tan|               1991|    Putnam Pub Group|http://images.ama...|http://images.ama...|http://images.ama...|\n",
            "|0425176428|What If?: The Wor...|       Robert Cowley|               2000|Berkley Publishin...|http://images.ama...|http://images.ama...|http://images.ama...|\n",
            "|0671870432|     PLEADING GUILTY|         Scott Turow|               1993|          Audioworks|http://images.ama...|http://images.ama...|http://images.ama...|\n",
            "|0679425608|Under the Black F...|     David Cordingly|               1996|        Random House|http://images.ama...|http://images.ama...|http://images.ama...|\n",
            "|074322678X|Where You'll Find...|         Ann Beattie|               2002|            Scribner|http://images.ama...|http://images.ama...|http://images.ama...|\n",
            "|0771074670|Nights Below Stat...|David Adams Richards|               1988|     Emblem Editions|http://images.ama...|http://images.ama...|http://images.ama...|\n",
            "|080652121X|Hitler's Secret B...|          Adam Lebor|               2000|       Citadel Press|http://images.ama...|http://images.ama...|http://images.ama...|\n",
            "|0887841740|  The Middle Stories|         Sheila Heti|               2004|House of Anansi P...|http://images.ama...|http://images.ama...|http://images.ama...|\n",
            "|1552041778|            Jane Doe|        R. J. Kaiser|               1999|          Mira Books|http://images.ama...|http://images.ama...|http://images.ama...|\n",
            "|1558746218|A Second Chicken ...|       Jack Canfield|               1998|Health Communicat...|http://images.ama...|http://images.ama...|http://images.ama...|\n",
            "|1567407781|The Witchfinder (...|   Loren D. Estleman|               1998|Brilliance Audio ...|http://images.ama...|http://images.ama...|http://images.ama...|\n",
            "|1575663937|More Cunning Than...|  Robert Hendrickson|               1999|Kensington Publis...|http://images.ama...|http://images.ama...|http://images.ama...|\n",
            "|1881320189|Goodbye to the Bu...|        Julia Oliver|               1994|      River City Pub|http://images.ama...|http://images.ama...|http://images.ama...|\n",
            "|0440234743|       The Testament|        John Grisham|               1999|                Dell|http://images.ama...|http://images.ama...|http://images.ama...|\n",
            "|0452264464|Beloved (Plume Co...|       Toni Morrison|               1994|               Plume|http://images.ama...|http://images.ama...|http://images.ama...|\n",
            "+----------+--------------------+--------------------+-------------------+--------------------+--------------------+--------------------+--------------------+\n",
            "only showing top 20 rows\n",
            "\n"
          ]
        }
      ]
    },
    {
      "cell_type": "code",
      "source": [
        "print((dfb.count(), len(dfb.columns)))"
      ],
      "metadata": {
        "colab": {
          "base_uri": "https://localhost:8080/"
        },
        "id": "Je9dINLdMjGd",
        "outputId": "76e27812-7cd8-49df-ed29-ed7223202870"
      },
      "execution_count": null,
      "outputs": [
        {
          "output_type": "stream",
          "name": "stdout",
          "text": [
            "(271379, 8)\n"
          ]
        }
      ]
    },
    {
      "cell_type": "markdown",
      "source": [
        "**dfb file ETA dim table**"
      ],
      "metadata": {
        "id": "Gxgv3hCMGUu_"
      }
    },
    {
      "cell_type": "code",
      "source": [
        "y=dfb.drop('Image-URL-S', 'Image-URL-M','Image-URL-L')\n",
        "dfb=y\n",
        "dfb=dfb.withColumnRenamed('Year-Of-Publication', 'PublishY')\n",
        "dfb=dfb.withColumnRenamed('Book-Title','Title')\n",
        "dfb=dfb.withColumnRenamed('Book-Author' ,'Author')\n"
      ],
      "metadata": {
        "id": "c4B5h6SxtrrL"
      },
      "execution_count": null,
      "outputs": []
    },
    {
      "cell_type": "code",
      "source": [
        "for i in dfb.columns:\n",
        "  dfb=dfb.withColumn(i,regexp_replace(i,'�?',''))\n",
        "  dfb=dfb.withColumn(i,regexp_replace(i,'¼',''))\n",
        "\n",
        "dfb=dfb.withColumn('Author',regexp_replace('Author','\"\\\"',''))\n",
        "dfb=dfb.withColumn('Author',regexp_replace('Author','\"',''))\n",
        "\n",
        "dfb.show()"
      ],
      "metadata": {
        "colab": {
          "base_uri": "https://localhost:8080/"
        },
        "id": "sEZYxTvy-IH4",
        "outputId": "7ab79149-3034-4384-8772-eab5858c1b4f"
      },
      "execution_count": null,
      "outputs": [
        {
          "output_type": "stream",
          "name": "stdout",
          "text": [
            "+----------+--------------------+--------------------+--------+--------------------+\n",
            "|      ISBN|               Title|              Author|PublishY|           Publisher|\n",
            "+----------+--------------------+--------------------+--------+--------------------+\n",
            "|0195153448| Classical Mythology|  Mark P. O. Morford|    2002|Oxford University...|\n",
            "|0002005018|        Clara Callan|Richard Bruce Wright|    2001|HarperFlamingo Ca...|\n",
            "|0060973129|Decision in Normandy|        Carlo D'Este|    1991|     HarperPerennial|\n",
            "|0374157065|Flu: The Story of...|    Gina Bari Kolata|    1999|Farrar Straus Giroux|\n",
            "|0393045218|The Mummies of Ur...|     E. J. W. Barber|    1999|W. W. Norton &amp...|\n",
            "|0399135782|The Kitchen God's...|             Amy Tan|    1991|    Putnam Pub Group|\n",
            "|0425176428|What If?: The Wor...|       Robert Cowley|    2000|Berkley Publishin...|\n",
            "|0671870432|     PLEADING GUILTY|         Scott Turow|    1993|          Audioworks|\n",
            "|0679425608|Under the Black F...|     David Cordingly|    1996|        Random House|\n",
            "|074322678X|Where You'll Find...|         Ann Beattie|    2002|            Scribner|\n",
            "|0771074670|Nights Below Stat...|David Adams Richards|    1988|     Emblem Editions|\n",
            "|080652121X|Hitler's Secret B...|          Adam Lebor|    2000|       Citadel Press|\n",
            "|0887841740|  The Middle Stories|         Sheila Heti|    2004|House of Anansi P...|\n",
            "|1552041778|            Jane Doe|        R. J. Kaiser|    1999|          Mira Books|\n",
            "|1558746218|A Second Chicken ...|       Jack Canfield|    1998|Health Communicat...|\n",
            "|1567407781|The Witchfinder (...|   Loren D. Estleman|    1998|Brilliance Audio ...|\n",
            "|1575663937|More Cunning Than...|  Robert Hendrickson|    1999|Kensington Publis...|\n",
            "|1881320189|Goodbye to the Bu...|        Julia Oliver|    1994|      River City Pub|\n",
            "|0440234743|       The Testament|        John Grisham|    1999|                Dell|\n",
            "|0452264464|Beloved (Plume Co...|       Toni Morrison|    1994|               Plume|\n",
            "+----------+--------------------+--------------------+--------+--------------------+\n",
            "only showing top 20 rows\n",
            "\n"
          ]
        }
      ]
    },
    {
      "cell_type": "code",
      "source": [
        "dfb.filter(dfb.Author=='Lulu').collect()"
      ],
      "metadata": {
        "colab": {
          "base_uri": "https://localhost:8080/"
        },
        "id": "WvxkbvPFCNed",
        "outputId": "93c245e4-4647-45a8-e6b9-c75e944ad102"
      },
      "execution_count": null,
      "outputs": [
        {
          "output_type": "execute_result",
          "data": {
            "text/plain": [
              "[Row(ISBN='0751533718', Title='Lulu', Author='Lulu', PublishY='2003', Publisher='Time Warner Paperbacks')]"
            ]
          },
          "metadata": {},
          "execution_count": 43
        }
      ]
    },
    {
      "cell_type": "code",
      "source": [
        "dfb=dfb.withColumn(\"PublishY\",dfb.PublishY.cast('int'))\n",
        "dfb = dfb.withColumn(\"PublishY\", when(dfb.PublishY > 2022 ,0).otherwise(dfb.PublishY))"
      ],
      "metadata": {
        "id": "gUHlwNRaN4h_"
      },
      "execution_count": null,
      "outputs": []
    },
    {
      "cell_type": "code",
      "source": [
        "dfb.filter(\"PublishY=0\").show()"
      ],
      "metadata": {
        "colab": {
          "base_uri": "https://localhost:8080/"
        },
        "id": "sq9qHQbF7fF4",
        "outputId": "82a5abd2-7b38-46ac-b2d2-2767fffa238e"
      },
      "execution_count": null,
      "outputs": [
        {
          "output_type": "stream",
          "name": "stdout",
          "text": [
            "+----------+--------------------+--------------------+--------+--------------------+\n",
            "|      ISBN|               Title|              Author|PublishY|           Publisher|\n",
            "+----------+--------------------+--------------------+--------+--------------------+\n",
            "|3150000335|    Kabale Und Liebe|            Schiller|       0|Philipp Reclam, J...|\n",
            "|342311360X|Die Liebe in Den ...|Gabriel Garcia Ma...|       0|Deutscher Taschen...|\n",
            "|0571197639|Poisonwood Bible ...|  Barbara Kingsolver|       0|     Faber Faber Inc|\n",
            "|3596214629|Herr Der Fliegen ...|             Golding|       0|Fischer Taschenbu...|\n",
            "|8845229041|Biblioteca Univer...|            P Coelho|       0|  Fabbri - RCS Libri|\n",
            "|0345251733|Rainbow the Storm...|   Christopher Finch|       0|    Ballantine Books|\n",
            "|0590021117|Little House On t...| Laura Ingall Wilder|       0|      Scholastic Inc|\n",
            "|2070362388|              Ravage|       Rene Barjavel|       0|    Gallimard French|\n",
            "|2266033689|  Le Diable Au Corps|    Raymond Radiguet|       0|Presses Pocket Fr...|\n",
            "|2070334368|La Guerre Des Bou...|             Pergaud|       0|      Livre de Poche|\n",
            "|0718144538|        Shattered Uk|        Dick Francis|       0|  Michael Joseph Ltd|\n",
            "|0349101779|    The Wasp Factory|          Iain Banks|       0|              Abacus|\n",
            "|1860198597|How to Draw Celti...|          Andy Sloss|       0|  Brockhampton Press|\n",
            "|0753804700|              Reader|    Bernhard Schlink|       0|       Phoenix Books|\n",
            "|3473540420|Das Kurze Leben D...|               Vinke|       0|Ravensburger Buch...|\n",
            "|1566193966|  History of Croatia|        Stephen Gazi|       0|  Barnes Noble Books|\n",
            "|3423009152| Der Geteilte Himmel|        Christa Wolf|       0|Deutscher Taschen...|\n",
            "|0140620338|Picture of Dorian...|         Oscar Wilde|       0| Penguin Putnam~mass|\n",
            "|0571200389|         Golden Gate|         Vikram Seth|       0|     Faber Faber Inc|\n",
            "|000649840X|       Angelas Ashes|       Frank Mccourt|       0|    Harpercollins Uk|\n",
            "+----------+--------------------+--------------------+--------+--------------------+\n",
            "only showing top 20 rows\n",
            "\n"
          ]
        }
      ]
    },
    {
      "cell_type": "code",
      "source": [
        "print((dfb.count(), len(dfb.columns)))"
      ],
      "metadata": {
        "colab": {
          "base_uri": "https://localhost:8080/"
        },
        "id": "i_XM5CJ9oyhg",
        "outputId": "acc6acac-1230-4a12-c990-11377baa4d55"
      },
      "execution_count": null,
      "outputs": [
        {
          "output_type": "stream",
          "name": "stdout",
          "text": [
            "(271379, 5)\n"
          ]
        }
      ]
    },
    {
      "cell_type": "code",
      "source": [
        "import pyspark.sql.functions as fn\n",
        "from pyspark.sql import Window\n",
        "type(dfb)"
      ],
      "metadata": {
        "colab": {
          "base_uri": "https://localhost:8080/"
        },
        "id": "OIeKQZZ17oYn",
        "outputId": "c8432764-0bbc-478f-ab8f-f9b32e99c827"
      },
      "execution_count": null,
      "outputs": [
        {
          "output_type": "execute_result",
          "data": {
            "text/plain": [
              "pyspark.sql.dataframe.DataFrame"
            ]
          },
          "metadata": {},
          "execution_count": 47
        }
      ]
    },
    {
      "cell_type": "code",
      "source": [
        "dfu.coalesce(1).write.option(\"header\",True).csv(\"/content/drive/MyDrive/Big Data Project/ProjectBigDataBooksRating/Users.csv\")"
      ],
      "metadata": {
        "id": "LUAtuu8Y6xoN"
      },
      "execution_count": null,
      "outputs": []
    },
    {
      "cell_type": "code",
      "source": [
        " dfb.coalesce(1).write.option(\"header\",True).csv(\"/content/drive/MyDrive/Big Data Project/ProjectBigDataBooksRating/Books.csv\")"
      ],
      "metadata": {
        "id": "ChdmkhLqBRyR"
      },
      "execution_count": null,
      "outputs": []
    },
    {
      "cell_type": "code",
      "source": [
        "dfr.coalesce(1).write.option(\"header\",True).csv(\"/content/drive/MyDrive/Big Data Project/ProjectBigDataBooksRating/Rating.csv\")"
      ],
      "metadata": {
        "id": "s09W9vDnBSAd"
      },
      "execution_count": null,
      "outputs": []
    },
    {
      "cell_type": "code",
      "source": [
        "spark.stop()\n"
      ],
      "metadata": {
        "id": "yWk5Bty-8yW-"
      },
      "execution_count": null,
      "outputs": []
    }
  ]
}